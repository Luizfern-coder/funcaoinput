{
  "nbformat": 4,
  "nbformat_minor": 0,
  "metadata": {
    "colab": {
      "provenance": []
    },
    "kernelspec": {
      "name": "python3",
      "display_name": "Python 3"
    },
    "language_info": {
      "name": "python"
    }
  },
  "cells": [
    {
      "cell_type": "code",
      "execution_count": 1,
      "metadata": {
        "colab": {
          "base_uri": "https://localhost:8080/"
        },
        "id": "XpXRUHLGItgs",
        "outputId": "f49282b8-1d05-41a9-853e-60c4b388e8c0"
      },
      "outputs": [
        {
          "name": "stdout",
          "output_type": "stream",
          "text": [
            "qual o seu nome?luiz\n"
          ]
        }
      ],
      "source": [
        "nome = input(\"qual o seu nome?\")\n"
      ]
    },
    {
      "cell_type": "code",
      "source": [
        "from getpass import getpass\n",
        "senha = getpass(\"qual a sua senha\")\n"
      ],
      "metadata": {
        "colab": {
          "base_uri": "https://localhost:8080/"
        },
        "id": "PheJ6aAnI1wQ",
        "outputId": "3cec659d-5216-46ec-dda4-bd177a5f8a7c"
      },
      "execution_count": 4,
      "outputs": [
        {
          "name": "stdout",
          "output_type": "stream",
          "text": [
            "qual a sua senha··········\n"
          ]
        }
      ]
    },
    {
      "cell_type": "code",
      "source": [
        "print(senha)"
      ],
      "metadata": {
        "colab": {
          "base_uri": "https://localhost:8080/"
        },
        "id": "ylfWIfa3Jc4_",
        "outputId": "548a01f4-adb3-4da9-abd0-d70a2c40ddeb"
      },
      "execution_count": 5,
      "outputs": [
        {
          "output_type": "stream",
          "name": "stdout",
          "text": [
            "lira\n"
          ]
        }
      ]
    },
    {
      "cell_type": "code",
      "source": [],
      "metadata": {
        "id": "lFzlEVYxJocP"
      },
      "execution_count": null,
      "outputs": []
    }
  ]
}